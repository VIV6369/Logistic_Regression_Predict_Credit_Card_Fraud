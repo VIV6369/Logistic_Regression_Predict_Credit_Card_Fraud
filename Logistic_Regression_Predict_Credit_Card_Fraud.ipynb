{
 "cells": [
  {
   "cell_type": "markdown",
   "id": "75a1794e",
   "metadata": {},
   "source": [
    "# Predict Credit Card Fraud\n",
    "\n",
    "\n",
    "Credit card fraud is one of the leading causes of identify theft around the world. In 2018 alone, over $24 billion were stolen through fraudulent credit card transactions. Financial institutions employ a wide variety of different techniques to prevent fraud, one of the most common being Logistic Regression.\n",
    "\n",
    "In this project, you have access to a dataset (based on a synthetic financial dataset), that represents a typical set of credit card transactions. *transactions.csv* is the original dataset containing 200k transactions. For starters, we’re going to be working with a small portion of this dataset, *transactions_modified.csv*, which contains one thousand transactions. Your task is to use Logistic Regression and create a predictive model to determine if a transaction is fraudulent or not."
   ]
  },
  {
   "cell_type": "code",
   "execution_count": 36,
   "id": "8f17a06f",
   "metadata": {},
   "outputs": [
    {
     "name": "stdout",
     "output_type": "stream",
     "text": [
      "   step      type      amount     nameOrig  oldbalanceOrg  newbalanceOrig  \\\n",
      "0   206  CASH_OUT    62927.08   C473782114           0.00            0.00   \n",
      "1   380   PAYMENT    32851.57  C1915112886           0.00            0.00   \n",
      "2   570  CASH_OUT  1131750.38  C1396198422     1131750.38            0.00   \n",
      "3   184  CASH_OUT    60519.74   C982551468       60519.74            0.00   \n",
      "4   162   CASH_IN    46716.01  C1759889425     7668050.60      7714766.61   \n",
      "\n",
      "      nameDest  oldbalanceDest  newbalanceDest  isFraud  isPayment  \\\n",
      "0  C2096898696       649420.67       712347.75        0          0   \n",
      "1   M916879292            0.00            0.00        0          1   \n",
      "2  C1612235515       313070.53      1444820.92        1          0   \n",
      "3  C1378644910        54295.32       182654.50        1          0   \n",
      "4  C2059152908      2125468.75      2078752.75        0          0   \n",
      "\n",
      "   isMovement  accountDiff  \n",
      "0           1    649420.67  \n",
      "1           0         0.00  \n",
      "2           1    818679.85  \n",
      "3           1      6224.42  \n",
      "4           0   5542581.85  \n",
      "<class 'pandas.core.frame.DataFrame'>\n",
      "RangeIndex: 1000 entries, 0 to 999\n",
      "Data columns (total 13 columns):\n",
      " #   Column          Non-Null Count  Dtype  \n",
      "---  ------          --------------  -----  \n",
      " 0   step            1000 non-null   int64  \n",
      " 1   type            1000 non-null   object \n",
      " 2   amount          1000 non-null   float64\n",
      " 3   nameOrig        1000 non-null   object \n",
      " 4   oldbalanceOrg   1000 non-null   float64\n",
      " 5   newbalanceOrig  1000 non-null   float64\n",
      " 6   nameDest        1000 non-null   object \n",
      " 7   oldbalanceDest  1000 non-null   float64\n",
      " 8   newbalanceDest  1000 non-null   float64\n",
      " 9   isFraud         1000 non-null   int64  \n",
      " 10  isPayment       1000 non-null   int64  \n",
      " 11  isMovement      1000 non-null   int64  \n",
      " 12  accountDiff     1000 non-null   float64\n",
      "dtypes: float64(6), int64(4), object(3)\n",
      "memory usage: 101.7+ KB\n",
      "None\n"
     ]
    }
   ],
   "source": [
    "#import libraries \n",
    "import seaborn\n",
    "import pandas as pd\n",
    "import numpy as np\n",
    "import matplotlib.pyplot as plt\n",
    "from sklearn.linear_model import LogisticRegression\n",
    "from sklearn.model_selection import train_test_split\n",
    "from sklearn.preprocessing import StandardScaler\n",
    "\n",
    "\n",
    "# Load the data\n",
    "transactions = pd.read_csv('transactions_modified.csv')\n",
    "print(transactions.head())\n",
    "print(transactions.info())"
   ]
  },
  {
   "cell_type": "markdown",
   "id": "f00ba661",
   "metadata": {},
   "source": [
    "How many fraudelent transactions in existing dataset?"
   ]
  },
  {
   "cell_type": "code",
   "execution_count": 37,
   "id": "fbb6ec7d",
   "metadata": {},
   "outputs": [
    {
     "name": "stdout",
     "output_type": "stream",
     "text": [
      "Fraudelent transactions in this dataset:  282\n"
     ]
    }
   ],
   "source": [
    "print(\"Fraudelent transactions in this dataset: \", transactions.isFraud.sum())"
   ]
  },
  {
   "cell_type": "markdown",
   "id": "6d8488d3",
   "metadata": {},
   "source": [
    "#### Clean the Data"
   ]
  },
  {
   "cell_type": "code",
   "execution_count": 38,
   "id": "a714b505",
   "metadata": {},
   "outputs": [
    {
     "name": "stdout",
     "output_type": "stream",
     "text": [
      "count    1.000000e+03\n",
      "mean     5.373080e+05\n",
      "std      1.423692e+06\n",
      "min      0.000000e+00\n",
      "25%      2.933705e+04\n",
      "50%      1.265305e+05\n",
      "75%      3.010378e+05\n",
      "max      1.000000e+07\n",
      "Name: amount, dtype: float64\n"
     ]
    }
   ],
   "source": [
    "print(transactions.amount.describe())"
   ]
  },
  {
   "cell_type": "code",
   "execution_count": 39,
   "id": "b5ab7f82",
   "metadata": {},
   "outputs": [
    {
     "name": "stdout",
     "output_type": "stream",
     "text": [
      "['CASH_OUT' 'PAYMENT' 'CASH_IN' 'TRANSFER' 'DEBIT']\n"
     ]
    }
   ],
   "source": [
    "print(transactions.type.unique())"
   ]
  },
  {
   "cell_type": "markdown",
   "id": "e5854604",
   "metadata": {},
   "source": [
    "We have a lot of information about the type of transaction we are looking at. Let’s create a new column called *isPayment* that assigns a 1 when type is “PAYMENT” or “DEBIT”, and a 0 otherwise."
   ]
  },
  {
   "cell_type": "code",
   "execution_count": 40,
   "id": "ee0973c6",
   "metadata": {},
   "outputs": [
    {
     "name": "stdout",
     "output_type": "stream",
     "text": [
      "   step      type      amount     nameOrig  oldbalanceOrg  newbalanceOrig  \\\n",
      "0   206  CASH_OUT    62927.08   C473782114           0.00            0.00   \n",
      "1   380   PAYMENT    32851.57  C1915112886           0.00            0.00   \n",
      "2   570  CASH_OUT  1131750.38  C1396198422     1131750.38            0.00   \n",
      "3   184  CASH_OUT    60519.74   C982551468       60519.74            0.00   \n",
      "4   162   CASH_IN    46716.01  C1759889425     7668050.60      7714766.61   \n",
      "\n",
      "      nameDest  oldbalanceDest  newbalanceDest  isFraud  isPayment  \\\n",
      "0  C2096898696       649420.67       712347.75        0          0   \n",
      "1   M916879292            0.00            0.00        0          1   \n",
      "2  C1612235515       313070.53      1444820.92        1          0   \n",
      "3  C1378644910        54295.32       182654.50        1          0   \n",
      "4  C2059152908      2125468.75      2078752.75        0          0   \n",
      "\n",
      "   isMovement  accountDiff  \n",
      "0           1    649420.67  \n",
      "1           0         0.00  \n",
      "2           1    818679.85  \n",
      "3           1      6224.42  \n",
      "4           0   5542581.85  \n"
     ]
    }
   ],
   "source": [
    "#create dictionary\n",
    "ispayment = {'PAYMENT':1,'DEBIT':1, 'CASH_OUT':0, 'CASH_IN':0, 'TRANSFER':0}\n",
    "#transform column\n",
    "transactions['isPayment'] = transactions.type.map(ispayment)\n",
    "\n",
    "print(transactions.head()) "
   ]
  },
  {
   "cell_type": "markdown",
   "id": "1ed4ca70",
   "metadata": {},
   "source": [
    "Similarly, create a column called *isMovement*, which will capture if money moved out of the origin account. This column will have a value of 1 when type is either “CASH_OUT” or “TRANSFER”, and a 0 otherwise."
   ]
  },
  {
   "cell_type": "code",
   "execution_count": 41,
   "id": "211d6b10",
   "metadata": {},
   "outputs": [
    {
     "name": "stdout",
     "output_type": "stream",
     "text": [
      "   step      type      amount     nameOrig  oldbalanceOrg  newbalanceOrig  \\\n",
      "0   206  CASH_OUT    62927.08   C473782114           0.00            0.00   \n",
      "1   380   PAYMENT    32851.57  C1915112886           0.00            0.00   \n",
      "2   570  CASH_OUT  1131750.38  C1396198422     1131750.38            0.00   \n",
      "3   184  CASH_OUT    60519.74   C982551468       60519.74            0.00   \n",
      "4   162   CASH_IN    46716.01  C1759889425     7668050.60      7714766.61   \n",
      "\n",
      "      nameDest  oldbalanceDest  newbalanceDest  isFraud  isPayment  \\\n",
      "0  C2096898696       649420.67       712347.75        0          0   \n",
      "1   M916879292            0.00            0.00        0          1   \n",
      "2  C1612235515       313070.53      1444820.92        1          0   \n",
      "3  C1378644910        54295.32       182654.50        1          0   \n",
      "4  C2059152908      2125468.75      2078752.75        0          0   \n",
      "\n",
      "   isMovement  accountDiff  \n",
      "0           1    649420.67  \n",
      "1           0         0.00  \n",
      "2           1    818679.85  \n",
      "3           1      6224.42  \n",
      "4           0   5542581.85  \n"
     ]
    }
   ],
   "source": [
    "#create dictionary\n",
    "ismovement = {'PAYMENT':0,'DEBIT':0, 'CASH_OUT':1, 'CASH_IN':0, 'TRANSFER':1}\n",
    "#transform column\n",
    "transactions['isMovement'] = transactions.type.map(ismovement)\n",
    "\n",
    "print(transactions.head()) "
   ]
  },
  {
   "cell_type": "markdown",
   "id": "385cf74d",
   "metadata": {},
   "source": [
    "With financial fraud, another key factor to investigate would be the difference in value between the origin and destination account. Our theory, in this case, being that destination accounts with a significantly different value could be suspect of fraud. Let’s create a column called *accountDiff* with the absolute difference of the *oldbalanceOrg* and *oldbalanceDest* columns."
   ]
  },
  {
   "cell_type": "code",
   "execution_count": 42,
   "id": "e2d51f54",
   "metadata": {},
   "outputs": [],
   "source": [
    "# Create accountDiff field\n",
    "transactions['accountDiff'] = abs(transactions['oldbalanceDest'] - transactions['oldbalanceOrg'])"
   ]
  },
  {
   "cell_type": "markdown",
   "id": "93b5aec4",
   "metadata": {},
   "source": [
    "#### Select and Split the Data into Test and Train"
   ]
  },
  {
   "cell_type": "code",
   "execution_count": 43,
   "id": "eb2d92f2",
   "metadata": {},
   "outputs": [],
   "source": [
    "# Separate out X (features: amount,isPayment,isMovement,accountDiff) and y (label: isFraud)\n",
    "X = transactions[['amount', 'isPayment','isMovement','accountDiff']]\n",
    "y = transactions[['isFraud']]"
   ]
  },
  {
   "cell_type": "code",
   "execution_count": 44,
   "id": "d48c48f5",
   "metadata": {},
   "outputs": [],
   "source": [
    "# Split data into training and testing sets\n",
    "X_train, X_test, y_train, y_test = train_test_split(X,y, test_size=0.3, random_state=6)"
   ]
  },
  {
   "cell_type": "markdown",
   "id": "d6daebaa",
   "metadata": {},
   "source": [
    "#### Normalize the Data\n",
    "\n",
    "Since sklearn‘s Logistic Regression implementation uses Regularization, we need to scale our feature data."
   ]
  },
  {
   "cell_type": "code",
   "execution_count": 45,
   "id": "ba86f7e1",
   "metadata": {},
   "outputs": [],
   "source": [
    "# Scale the data\n",
    "scaler = StandardScaler()\n",
    "X_train = scaler.fit_transform(X_train)\n",
    "X_test = scaler.transform(X_test)"
   ]
  },
  {
   "cell_type": "markdown",
   "id": "e729874f",
   "metadata": {},
   "source": [
    "#### Create and Evaluate the Model"
   ]
  },
  {
   "cell_type": "code",
   "execution_count": 51,
   "id": "fd576b6c",
   "metadata": {},
   "outputs": [
    {
     "data": {
      "text/plain": [
       "LogisticRegression()"
      ]
     },
     "execution_count": 51,
     "metadata": {},
     "output_type": "execute_result"
    }
   ],
   "source": [
    "# Create and fit the logistic regression model\n",
    "model = LogisticRegression()\n",
    "model.fit(X_train, y_train.values.ravel())"
   ]
  },
  {
   "cell_type": "markdown",
   "id": "73975593",
   "metadata": {},
   "source": [
    "Let's look at model scores. First on the training data and then the test data.\n",
    "\n",
    "Scoring the model on the training data will process the training data through the trained model and will predict which transactions are fraudulent. The score returned is the percentage of correct classifications, or the accuracy."
   ]
  },
  {
   "cell_type": "code",
   "execution_count": 55,
   "id": "8f13fdb4",
   "metadata": {},
   "outputs": [
    {
     "name": "stdout",
     "output_type": "stream",
     "text": [
      "Model score on the training data: 0.8414285714285714\n"
     ]
    }
   ],
   "source": [
    "print('Model score on the training data:', model.score(X_train,y_train))"
   ]
  },
  {
   "cell_type": "code",
   "execution_count": 56,
   "id": "eb3c76cd",
   "metadata": {},
   "outputs": [
    {
     "name": "stdout",
     "output_type": "stream",
     "text": [
      "Model score on the test data: 0.85\n"
     ]
    }
   ],
   "source": [
    "print('Model score on the test data:', model.score(X_test, y_test))"
   ]
  },
  {
   "cell_type": "markdown",
   "id": "b6635099",
   "metadata": {},
   "source": [
    "The coefficients for our model to see how important each feature column was for prediction."
   ]
  },
  {
   "cell_type": "code",
   "execution_count": 54,
   "id": "f9301ad4",
   "metadata": {},
   "outputs": [
    {
     "name": "stdout",
     "output_type": "stream",
     "text": [
      "[[ 2.76728882 -0.61054026  2.06030391 -1.29953811]]\n"
     ]
    }
   ],
   "source": [
    "print(model.coef_)"
   ]
  },
  {
   "cell_type": "markdown",
   "id": "f4790ea3",
   "metadata": {},
   "source": [
    "#### Predict with the Model\n",
    "\n",
    "Let’s use our model to process more transactions that have gone through our systems.\n",
    "Create several made up transactions and test it on a model."
   ]
  },
  {
   "cell_type": "code",
   "execution_count": 90,
   "id": "4bc8e368",
   "metadata": {},
   "outputs": [],
   "source": [
    "# New transaction data\n",
    "transaction1 = np.array([123456.78, 0.0, 1.0, 54670.1])\n",
    "transaction2 = np.array([98765.43, 1.0, 0.0, 8524.75])\n",
    "transaction3 = np.array([543678.31, 1.0, 0.0, 510025.5])\n",
    "your_transaction = np.array([123500.0, 0.0, 1.0, 62350.0])"
   ]
  },
  {
   "cell_type": "code",
   "execution_count": 91,
   "id": "55e354a7",
   "metadata": {},
   "outputs": [],
   "source": [
    "# Combining new transactions into single array.\n",
    "sample_transactions = np.stack((transaction1,transaction2,transaction3,your_transaction))"
   ]
  },
  {
   "cell_type": "markdown",
   "id": "883ceea4",
   "metadata": {},
   "source": [
    "Since our Logistic Regression model was trained on scaled feature data, we must also scale the feature data we are making predictions on."
   ]
  },
  {
   "cell_type": "code",
   "execution_count": 92,
   "id": "fa9073b1",
   "metadata": {},
   "outputs": [],
   "source": [
    "# Normalizing our new sample transactions, for our model.\n",
    "sample_transactions = scaler.transform(sample_transactions)"
   ]
  },
  {
   "cell_type": "markdown",
   "id": "47926943",
   "metadata": {},
   "source": [
    "Now we can apply our model on new sample transactions."
   ]
  },
  {
   "cell_type": "code",
   "execution_count": 93,
   "id": "f8492b10",
   "metadata": {},
   "outputs": [
    {
     "name": "stdout",
     "output_type": "stream",
     "text": [
      "[0 0 0 0]\n"
     ]
    }
   ],
   "source": [
    "# Predict fraud on the new transactions\n",
    "print(model.predict(sample_transactions))"
   ]
  },
  {
   "cell_type": "markdown",
   "id": "9e8534e8",
   "metadata": {},
   "source": [
    "Let's see the probabilities of transaction being fraudelent. The 1st column is the probability of a transaction not being fraudulent, and the 2nd column is the probability of a transaction being fraudulent"
   ]
  },
  {
   "cell_type": "code",
   "execution_count": 94,
   "id": "238fcbe0",
   "metadata": {},
   "outputs": [
    {
     "name": "stdout",
     "output_type": "stream",
     "text": [
      "[[0.59993568 0.40006432]\n",
      " [0.99794715 0.00205285]\n",
      " [0.99576952 0.00423048]\n",
      " [0.60055607 0.39944393]]\n"
     ]
    }
   ],
   "source": [
    "# Show probabilities on the new transactions\n",
    "print(model.predict_proba(sample_transactions))"
   ]
  }
 ],
 "metadata": {
  "kernelspec": {
   "display_name": "Python 3 (ipykernel)",
   "language": "python",
   "name": "python3"
  },
  "language_info": {
   "codemirror_mode": {
    "name": "ipython",
    "version": 3
   },
   "file_extension": ".py",
   "mimetype": "text/x-python",
   "name": "python",
   "nbconvert_exporter": "python",
   "pygments_lexer": "ipython3",
   "version": "3.9.7"
  }
 },
 "nbformat": 4,
 "nbformat_minor": 5
}
